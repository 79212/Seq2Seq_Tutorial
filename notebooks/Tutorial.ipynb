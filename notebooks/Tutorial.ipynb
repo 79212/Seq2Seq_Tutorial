{
 "cells": [
  {
   "cell_type": "code",
   "execution_count": 11,
   "metadata": {
    "collapsed": true
   },
   "outputs": [],
   "source": [
    "import pandas as pd\n",
    "import logging\n",
    "import glob\n",
    "from sklearn.model_selection import train_test_split\n",
    "pd.set_option('display.max_colwidth', 500)\n",
    "logger = logging.getLogger()\n",
    "logger.setLevel(logging.WARNING)"
   ]
  },
  {
   "cell_type": "markdown",
   "metadata": {},
   "source": [
    "## 1. Process Data"
   ]
  },
  {
   "cell_type": "markdown",
   "metadata": {},
   "source": [
    "Look at filesystem to see files extracted from BigQuery"
   ]
  },
  {
   "cell_type": "code",
   "execution_count": 3,
   "metadata": {},
   "outputs": [
    {
     "name": "stdout",
     "output_type": "stream",
     "text": [
      "-rw-r--r-- 1 40294 40294 281M Jan 14 00:58 results000000000000.csv\r\n",
      "-rw-r--r-- 1 40294 40294 280M Jan 14 00:59 results000000000001.csv\r\n",
      "-rw-r--r-- 1 40294 40294 281M Jan 14 00:59 results000000000002.csv\r\n",
      "-rw-r--r-- 1 40294 40294 281M Jan 14 00:59 results000000000003.csv\r\n",
      "-rw-r--r-- 1 40294 40294 281M Jan 14 00:59 results000000000004.csv\r\n",
      "-rw-r--r-- 1 40294 40294 281M Jan 14 00:59 results000000000005.csv\r\n",
      "-rw-r--r-- 1 40294 40294 282M Jan 14 00:59 results000000000006.csv\r\n",
      "-rw-r--r-- 1 40294 40294 281M Jan 14 00:59 results000000000007.csv\r\n",
      "-rw-r--r-- 1 40294 40294 280M Jan 14 00:59 results000000000008.csv\r\n",
      "-rw-r--r-- 1 40294 40294 281M Jan 14 00:59 results000000000009.csv\r\n"
     ]
    }
   ],
   "source": [
    "!ls -lah | grep results"
   ]
  },
  {
   "cell_type": "markdown",
   "metadata": {},
   "source": [
    "Split data into train and test set and preview data"
   ]
  },
  {
   "cell_type": "code",
   "execution_count": 14,
   "metadata": {},
   "outputs": [
    {
     "name": "stdout",
     "output_type": "stream",
     "text": [
      "Train: 4,297,104 rows 3 columns\n",
      "Test: 1,074,277 rows 3 columns\n"
     ]
    },
    {
     "data": {
      "text/html": [
       "<div>\n",
       "<style scoped>\n",
       "    .dataframe tbody tr th:only-of-type {\n",
       "        vertical-align: middle;\n",
       "    }\n",
       "\n",
       "    .dataframe tbody tr th {\n",
       "        vertical-align: top;\n",
       "    }\n",
       "\n",
       "    .dataframe thead th {\n",
       "        text-align: right;\n",
       "    }\n",
       "</style>\n",
       "<table border=\"1\" class=\"dataframe\">\n",
       "  <thead>\n",
       "    <tr style=\"text-align: right;\">\n",
       "      <th></th>\n",
       "      <th>issue_url</th>\n",
       "      <th>issue_title</th>\n",
       "      <th>body</th>\n",
       "    </tr>\n",
       "  </thead>\n",
       "  <tbody>\n",
       "    <tr>\n",
       "      <th>222500</th>\n",
       "      <td>\"https://github.com/zenoss/ZenPacks.zenoss.Microsoft.Windows/issues/845\"</td>\n",
       "      <td>\"zwinrmkrb5includedir is not honored\"</td>\n",
       "      <td>\"i am seeing a persistent issue where setting zwinrmkrb5includedir does not result in correct behavior. if i manually create a krb5.conf file with rdns set to flase, i can successfully model a device, but on subsequent runs modeling fails and the setting disappears. is there a secret to preventing reverse dns lookups?\"</td>\n",
       "    </tr>\n",
       "    <tr>\n",
       "      <th>264960</th>\n",
       "      <td>\"https://github.com/uf-feedback/vertpaleo/issues/38\"</td>\n",
       "      <td>\"portal usage statistics are almost back\"</td>\n",
       "      <td>\"thanks to the financial support of the museum of vertebrate zoology at berkeley, we have fixed the issues that were preventing us from logging the vertnet statistics of data use. usage statistics are being collected once again. we are now working on the reporting and visualization of those stats, so that we can bring those back to the natural history collections community in a friendly, useful modality. we expect all of this to be up and running before the end of the year. we apologize for ...</td>\n",
       "    </tr>\n",
       "    <tr>\n",
       "      <th>448395</th>\n",
       "      <td>\"https://github.com/airesvsg/wp-rest-api-cache/issues/10\"</td>\n",
       "      <td>\"uncaught exception: serialization of 'closure' is not allowed\"</td>\n",
       "      <td>\"i'm getting this kind of error just by installing &amp; enabling the plugin: 21-mar-2017 08:46:03 utc php fatal error: uncaught exception: serialization of 'closure' is not allowed in .../wordpress/wp-includes/functions.php:435 stack trace: 0 ... /wordpress/wp-includes/functions.php 435 : serialize object wp_rest_response 1 ... /wordpress/wp-includes/option.php 427 : maybe_serialize object wp_rest_response 2 ... /wordpress/wp-includes/option.php 730 : add_option '_transient_rest...', object wp_...</td>\n",
       "    </tr>\n",
       "  </tbody>\n",
       "</table>\n",
       "</div>"
      ],
      "text/plain": [
       "                                                                       issue_url  \\\n",
       "222500  \"https://github.com/zenoss/ZenPacks.zenoss.Microsoft.Windows/issues/845\"   \n",
       "264960                      \"https://github.com/uf-feedback/vertpaleo/issues/38\"   \n",
       "448395                 \"https://github.com/airesvsg/wp-rest-api-cache/issues/10\"   \n",
       "\n",
       "                                                            issue_title  \\\n",
       "222500                            \"zwinrmkrb5includedir is not honored\"   \n",
       "264960                        \"portal usage statistics are almost back\"   \n",
       "448395  \"uncaught exception: serialization of 'closure' is not allowed\"   \n",
       "\n",
       "                                                                                                                                                                                                                                                                                                                                                                                                                                                                                                                       body  \n",
       "222500                                                                                                                                                                                     \"i am seeing a persistent issue where setting zwinrmkrb5includedir does not result in correct behavior. if i manually create a krb5.conf file with rdns set to flase, i can successfully model a device, but on subsequent runs modeling fails and the setting disappears. is there a secret to preventing reverse dns lookups?\"  \n",
       "264960  \"thanks to the financial support of the museum of vertebrate zoology at berkeley, we have fixed the issues that were preventing us from logging the vertnet statistics of data use. usage statistics are being collected once again. we are now working on the reporting and visualization of those stats, so that we can bring those back to the natural history collections community in a friendly, useful modality. we expect all of this to be up and running before the end of the year. we apologize for ...  \n",
       "448395  \"i'm getting this kind of error just by installing & enabling the plugin: 21-mar-2017 08:46:03 utc php fatal error: uncaught exception: serialization of 'closure' is not allowed in .../wordpress/wp-includes/functions.php:435 stack trace: 0 ... /wordpress/wp-includes/functions.php 435 : serialize object wp_rest_response 1 ... /wordpress/wp-includes/option.php 427 : maybe_serialize object wp_rest_response 2 ... /wordpress/wp-includes/option.php 730 : add_option '_transient_rest...', object wp_...  "
      ]
     },
     "execution_count": 14,
     "metadata": {},
     "output_type": "execute_result"
    }
   ],
   "source": [
    "#read in data\n",
    "traindf, testdf = train_test_split(\n",
    "                                   pd.concat([\n",
    "                                              pd.read_csv(f) for f in glob.glob('*.csv')\n",
    "                                              ]), \n",
    "                                   test_size=.20)\n",
    "\n",
    "\n",
    "#print out stats about shape of data\n",
    "print(f'Train: {traindf.shape[0]:,} rows {traindf.shape[1]:,} columns')\n",
    "print(f'Test: {testdf.shape[0]:,} rows {testdf.shape[1]:,} columns')\n",
    "\n",
    "# preview data\n",
    "traindf.head(3)"
   ]
  },
  {
   "cell_type": "markdown",
   "metadata": {},
   "source": [
    "Convert to lists in preparation for modeling"
   ]
  },
  {
   "cell_type": "code",
   "execution_count": 15,
   "metadata": {},
   "outputs": [
    {
     "data": {
      "text/plain": [
       "'\"i am seeing a persistent issue where setting zwinrmkrb5includedir does not result in correct behavior. if i manually create a krb5.conf file with rdns set to flase, i can successfully model a device, but on subsequent runs modeling fails and the setting disappears. is there a secret to preventing reverse dns lookups?\"'"
      ]
     },
     "execution_count": 15,
     "metadata": {},
     "output_type": "execute_result"
    }
   ],
   "source": [
    "train_body_raw = traindf.body.tolist()\n",
    "train_title_raw = traindf.issue_title.tolist()\n",
    "train_body_raw[0]"
   ]
  },
  {
   "cell_type": "code",
   "execution_count": null,
   "metadata": {
    "collapsed": true
   },
   "outputs": [],
   "source": []
  }
 ],
 "metadata": {
  "kernelspec": {
   "display_name": "Python 3",
   "language": "python",
   "name": "python3"
  },
  "language_info": {
   "codemirror_mode": {
    "name": "ipython",
    "version": 3
   },
   "file_extension": ".py",
   "mimetype": "text/x-python",
   "name": "python",
   "nbconvert_exporter": "python",
   "pygments_lexer": "ipython3",
   "version": "3.6.2"
  }
 },
 "nbformat": 4,
 "nbformat_minor": 2
}
